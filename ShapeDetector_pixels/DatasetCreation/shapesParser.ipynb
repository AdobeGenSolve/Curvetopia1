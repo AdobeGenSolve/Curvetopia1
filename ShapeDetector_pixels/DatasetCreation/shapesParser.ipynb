{
 "cells": [
  {
   "cell_type": "code",
   "execution_count": 1,
   "metadata": {},
   "outputs": [],
   "source": [
    "import numpy as np\n",
    "import cv2 \n",
    "import json\n",
    "from random import randint, shuffle, uniform, choice\n",
    "from tqdm import tqdm"
   ]
  },
  {
   "cell_type": "code",
   "execution_count": 2,
   "metadata": {},
   "outputs": [],
   "source": [
    "DRAWING_HEIGHT, DRAWING_WIDTH = 255, 255\n",
    "IMG_HEIGHT, IMG_WIDTH = 512, 512\n",
    "GRID_SIZE = (4, 4)\n",
    "SCALELIMITS = (0.8, 2.5)\n",
    "OFFSETLIMIT = (0.3, 0.3)\n",
    "MARGIN = 10\n",
    "COLORBOUNDS = (20, 120)\n",
    "P_SABOTAGE = 0.15\n",
    "CELL = (IMG_WIDTH // GRID_SIZE[0], IMG_HEIGHT // GRID_SIZE[1])"
   ]
  },
  {
   "cell_type": "code",
   "execution_count": 3,
   "metadata": {},
   "outputs": [],
   "source": [
    "files = ['circle', 'hexagon', 'octagon', 'square', 'star', 'triangle', 'line']\n",
    "for i in range(len(files)):\n",
    "    files[i] = f'./shapes/full_simplified_{files[i]}.ndjson'"
   ]
  },
  {
   "cell_type": "code",
   "execution_count": 4,
   "metadata": {},
   "outputs": [
    {
     "name": "stderr",
     "output_type": "stream",
     "text": [
      "100%|██████████| 7/7 [00:21<00:00,  3.03s/it]\n"
     ]
    }
   ],
   "source": [
    "drawings = []\n",
    "for file in tqdm(files):\n",
    "    with open(file, 'r') as f:\n",
    "        for line in f:\n",
    "            drawings.append(json.loads(line))"
   ]
  },
  {
   "cell_type": "code",
   "execution_count": 5,
   "metadata": {},
   "outputs": [],
   "source": [
    "shuffle(drawings)"
   ]
  },
  {
   "cell_type": "code",
   "execution_count": 6,
   "metadata": {},
   "outputs": [],
   "source": [
    "def checkBounds(xy):\n",
    "    return xy[0] >= 0 and xy[0] < IMG_WIDTH and xy[1] >= 0 and xy[1] < IMG_HEIGHT\n",
    "\n",
    "def getRandomColor():\n",
    "    return (randint(COLORBOUNDS[0], COLORBOUNDS[1]), randint(COLORBOUNDS[0], COLORBOUNDS[1]), randint(COLORBOUNDS[0], COLORBOUNDS[1]))\n",
    "\n",
    "def draw(image, drawing, offset = (0, 0), scale = (1, 1)):\n",
    "    for stroke in drawing:\n",
    "        points = np.array([np.array([int(xy[0] * scale[0]), int(xy[1] * scale[1])]) + offset for xy in zip(stroke[0], stroke[1]) if checkBounds(xy)]).reshape(-1, 1, 2)\n",
    "        cv2.polylines(image, [points], isClosed=True, color = getRandomColor(), thickness=2)\n",
    "    return image\n",
    "        \n",
    "def getRandomTransform():\n",
    "    scaleX = (uniform(SCALELIMITS[0], SCALELIMITS[1]) * IMG_WIDTH) / (GRID_SIZE[0] * DRAWING_WIDTH)\n",
    "    scaleY = (uniform(SCALELIMITS[0], SCALELIMITS[1]) * IMG_HEIGHT) /  (GRID_SIZE[1] * DRAWING_HEIGHT)\n",
    "    return (scaleX, scaleY)\n",
    "\n",
    "def randomSabotage():\n",
    "    return uniform(0, 1) <= P_SABOTAGE\n",
    "\n",
    "def process(drawing, image, data, boxnum):\n",
    "    scale = getRandomTransform()\n",
    "    rownum, colnum = boxnum // GRID_SIZE[1], (boxnum % GRID_SIZE[1])\n",
    "    # print(scale, IMG_WIDTH, IMG_HEIGHT)\n",
    "    fixedOffset = (colnum * CELL[0], rownum * CELL[1])\n",
    "    limits = (int(CELL[0] * OFFSETLIMIT[0]), int(CELL[1] * OFFSETLIMIT[1]))\n",
    "    randomOffset = (randint(-limits[0], limits[0]), randint(-limits[1], limits[1]))\n",
    "    offset = (fixedOffset[0] + randomOffset[0], fixedOffset[1] + randomOffset[1])\n",
    "    def bound(x0, y0, x1, y1):\n",
    "        def boundValue(x, wall):\n",
    "            x = min(x, wall)\n",
    "            x = max(x, 0)\n",
    "            return x\n",
    "        return (boundValue(x0, IMG_WIDTH), boundValue(y0, IMG_HEIGHT), boundValue(x1, IMG_WIDTH), boundValue(y1, IMG_HEIGHT))\n",
    "\n",
    "    data[\"boxes\"].append(bound(offset[0], offset[1], int(offset[0] + DRAWING_WIDTH * scale[0]), int(offset[1] + DRAWING_HEIGHT * scale[1])))\n",
    "    data[\"labels\"].append(drawing[\"word\"])\n",
    "    draw(image, drawing['drawing'], offset, scale)\n",
    "    return (image, data)\n",
    "    \n",
    "def createImage():\n",
    "    image = np.full((IMG_HEIGHT, IMG_WIDTH, 3), 255, dtype = np.uint8)\n",
    "    data = {\"boxes\" : [], \"labels\" : []}\n",
    "    for i in range(GRID_SIZE[0] * GRID_SIZE[1]):\n",
    "        if randomSabotage():\n",
    "            continue\n",
    "        drawing = choice(drawings)\n",
    "        image, data = process(drawing, image, data, i)\n",
    "    return image, data\n",
    "    \n",
    "def visualizeBBoxes(image, metadata, showBoxes = True):\n",
    "    img = image.copy()\n",
    "    print(metadata)\n",
    "    if showBoxes:\n",
    "        for obj in metadata:\n",
    "            bbox = obj[\"bbox\"]\n",
    "            cv2.rectangle(img, (bbox[0], bbox[1]), (bbox[2], bbox[3]), (0, 0, 0), 2)\n",
    "    cv2.imshow(\"BBox img\", img)\n",
    "    cv2.waitKey(0)\n",
    "    cv2.destroyAllWindows()"
   ]
  },
  {
   "cell_type": "code",
   "execution_count": 7,
   "metadata": {},
   "outputs": [],
   "source": [
    "img, data = createImage()"
   ]
  },
  {
   "cell_type": "code",
   "execution_count": 8,
   "metadata": {},
   "outputs": [
    {
     "name": "stdout",
     "output_type": "stream",
     "text": [
      "{'boxes': [(33, 2, 189, 289), (136, 35, 290, 228), (287, 0, 512, 105), (349, 0, 504, 245), (7, 119, 220, 400), (278, 131, 458, 387), (415, 129, 512, 413), (0, 225, 175, 457), (274, 284, 512, 512), (388, 288, 512, 429), (131, 408, 307, 512), (262, 382, 433, 512), (371, 409, 512, 512)], 'labels': ['triangle', 'triangle', 'hexagon', 'octagon', 'circle', 'star', 'hexagon', 'square', 'line', 'square', 'star', 'line', 'triangle']}\n"
     ]
    }
   ],
   "source": [
    "visualizeBBoxes(img, data, False)"
   ]
  },
  {
   "cell_type": "code",
   "execution_count": 9,
   "metadata": {},
   "outputs": [],
   "source": [
    "from datasets import load_dataset, Dataset\n",
    "from huggingface_hub import login"
   ]
  },
  {
   "cell_type": "code",
   "execution_count": 10,
   "metadata": {},
   "outputs": [
    {
     "name": "stderr",
     "output_type": "stream",
     "text": [
      "100%|██████████| 20000/20000 [02:59<00:00, 111.73it/s]\n"
     ]
    }
   ],
   "source": [
    "DATASET_SIZE = 20000\n",
    "metadata = []\n",
    "for i in tqdm(range(DATASET_SIZE)):\n",
    "    img, data = createImage()\n",
    "    filename = str(i)\n",
    "    while len(filename) < 3:\n",
    "        filename = \"0\" + filename\n",
    "    filename += \".jpg\"\n",
    "    cv2.imwrite(f\"./images/{filename}\", img)\n",
    "    imgdata = {}\n",
    "    imgdata[\"file_name\"] = filename\n",
    "    imgdata[\"shapes\"] = data\n",
    "    metadata.append(imgdata)\n",
    "    \n",
    "with open(\"./images/metadata.jsonl\", \"w\") as f:\n",
    "    for item in metadata:\n",
    "        f.write(json.dumps(item) + '\\n')"
   ]
  },
  {
   "cell_type": "code",
   "execution_count": 11,
   "metadata": {},
   "outputs": [
    {
     "data": {
      "application/vnd.jupyter.widget-view+json": {
       "model_id": "f8abc48a77464d568fb042157d3b76f1",
       "version_major": 2,
       "version_minor": 0
      },
      "text/plain": [
       "Resolving data files:   0%|          | 0/20001 [00:00<?, ?it/s]"
      ]
     },
     "metadata": {},
     "output_type": "display_data"
    },
    {
     "data": {
      "application/vnd.jupyter.widget-view+json": {
       "model_id": "b32f33a6226f4a20893a092293b7a1bb",
       "version_major": 2,
       "version_minor": 0
      },
      "text/plain": [
       "Downloading data:   0%|          | 0/20001 [00:00<?, ?files/s]"
      ]
     },
     "metadata": {},
     "output_type": "display_data"
    },
    {
     "data": {
      "application/vnd.jupyter.widget-view+json": {
       "model_id": "1b33a3ed1e1542238125dc11b13b0631",
       "version_major": 2,
       "version_minor": 0
      },
      "text/plain": [
       "Generating train split: 0 examples [00:00, ? examples/s]"
      ]
     },
     "metadata": {},
     "output_type": "display_data"
    }
   ],
   "source": [
    "dataset = load_dataset(\"imagefolder\", data_dir='./images')"
   ]
  },
  {
   "cell_type": "code",
   "execution_count": 12,
   "metadata": {},
   "outputs": [
    {
     "name": "stdout",
     "output_type": "stream",
     "text": [
      "Token is valid (permission: write).\n",
      "\u001b[1m\u001b[31mCannot authenticate through git-credential as no helper is defined on your machine.\n",
      "You might have to re-authenticate when pushing to the Hugging Face Hub.\n",
      "Run the following command in your terminal in case you want to set the 'store' credential helper as default.\n",
      "\n",
      "git config --global credential.helper store\n",
      "\n",
      "Read https://git-scm.com/book/en/v2/Git-Tools-Credential-Storage for more details.\u001b[0m\n",
      "Token has not been saved to git credential helper.\n",
      "Your token has been saved to C:\\Users\\subha\\.cache\\huggingface\\token\n",
      "Login successful\n"
     ]
    }
   ],
   "source": [
    "login(token = \"\")"
   ]
  },
  {
   "cell_type": "code",
   "execution_count": 14,
   "metadata": {},
   "outputs": [
    {
     "data": {
      "application/vnd.jupyter.widget-view+json": {
       "model_id": "66e5777843c6441f8892cb4e476e999c",
       "version_major": 2,
       "version_minor": 0
      },
      "text/plain": [
       "Uploading the dataset shards:   0%|          | 0/3 [00:00<?, ?it/s]"
      ]
     },
     "metadata": {},
     "output_type": "display_data"
    },
    {
     "data": {
      "application/vnd.jupyter.widget-view+json": {
       "model_id": "606ca13c69784bb5b74292fc0e21a240",
       "version_major": 2,
       "version_minor": 0
      },
      "text/plain": [
       "Map:   0%|          | 0/6667 [00:00<?, ? examples/s]"
      ]
     },
     "metadata": {},
     "output_type": "display_data"
    },
    {
     "data": {
      "application/vnd.jupyter.widget-view+json": {
       "model_id": "835ba3f257b24827978396511a2afb48",
       "version_major": 2,
       "version_minor": 0
      },
      "text/plain": [
       "Creating parquet from Arrow format:   0%|          | 0/67 [00:00<?, ?ba/s]"
      ]
     },
     "metadata": {},
     "output_type": "display_data"
    },
    {
     "data": {
      "application/vnd.jupyter.widget-view+json": {
       "model_id": "93aa5f51260f4ca7b91d84eec8ec436d",
       "version_major": 2,
       "version_minor": 0
      },
      "text/plain": [
       "Map:   0%|          | 0/6667 [00:00<?, ? examples/s]"
      ]
     },
     "metadata": {},
     "output_type": "display_data"
    },
    {
     "data": {
      "application/vnd.jupyter.widget-view+json": {
       "model_id": "bba0c245563d49f594557a9eaac4e113",
       "version_major": 2,
       "version_minor": 0
      },
      "text/plain": [
       "Creating parquet from Arrow format:   0%|          | 0/67 [00:00<?, ?ba/s]"
      ]
     },
     "metadata": {},
     "output_type": "display_data"
    },
    {
     "data": {
      "application/vnd.jupyter.widget-view+json": {
       "model_id": "63ea0c5495e04305911fd16bb8df2b71",
       "version_major": 2,
       "version_minor": 0
      },
      "text/plain": [
       "Map:   0%|          | 0/6666 [00:00<?, ? examples/s]"
      ]
     },
     "metadata": {},
     "output_type": "display_data"
    },
    {
     "data": {
      "application/vnd.jupyter.widget-view+json": {
       "model_id": "dbf235480305409b95a492488c724ffd",
       "version_major": 2,
       "version_minor": 0
      },
      "text/plain": [
       "Creating parquet from Arrow format:   0%|          | 0/67 [00:00<?, ?ba/s]"
      ]
     },
     "metadata": {},
     "output_type": "display_data"
    },
    {
     "data": {
      "text/plain": [
       "CommitInfo(commit_url='https://huggingface.co/datasets/whENbhAI/doodle_512/commit/fe931d7df213196f6d36018976271ebe46fa2fe5', commit_message='Upload dataset', commit_description='', oid='fe931d7df213196f6d36018976271ebe46fa2fe5', pr_url=None, pr_revision=None, pr_num=None)"
      ]
     },
     "execution_count": 14,
     "metadata": {},
     "output_type": "execute_result"
    }
   ],
   "source": [
    "dataset.push_to_hub(\"whENbhAI/doodle_512\")"
   ]
  },
  {
   "cell_type": "code",
   "execution_count": null,
   "metadata": {},
   "outputs": [],
   "source": []
  }
 ],
 "metadata": {
  "kernelspec": {
   "display_name": "vision",
   "language": "python",
   "name": "python3"
  },
  "language_info": {
   "codemirror_mode": {
    "name": "ipython",
    "version": 3
   },
   "file_extension": ".py",
   "mimetype": "text/x-python",
   "name": "python",
   "nbconvert_exporter": "python",
   "pygments_lexer": "ipython3",
   "version": "3.9.0"
  }
 },
 "nbformat": 4,
 "nbformat_minor": 2
}
