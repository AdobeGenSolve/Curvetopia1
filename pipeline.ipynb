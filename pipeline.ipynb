{
 "cells": [
  {
   "cell_type": "code",
   "execution_count": 36,
   "metadata": {},
   "outputs": [],
   "source": [
    "import numpy as np\n",
    "import matplotlib.pyplot as plt\n",
    "from sklearn.linear_model import LinearRegression\n",
    "from sklearn.metrics import r2_score\n",
    "from scipy.spatial import ConvexHull\n",
    "import cv2\n",
    "from scipy.spatial.distance import cdist"
   ]
  },
  {
   "cell_type": "markdown",
   "metadata": {},
   "source": [
    "### UTILITY FUNCTIONS"
   ]
  },
  {
   "cell_type": "code",
   "execution_count": 49,
   "metadata": {},
   "outputs": [],
   "source": [
    "# Reads a particular csv file and returns a list of curves\n",
    "def read_csv(csv_path):\n",
    "    np_path_XYs = np.genfromtxt(csv_path, delimiter=',')\n",
    "    path_XYs = []\n",
    "    for i in np.unique(np_path_XYs[:, 0]):\n",
    "        npXYs = np_path_XYs[np_path_XYs[:, 0] == i][:, 1:]\n",
    "        XYs = []\n",
    "        for j in np.unique(npXYs[:, 0]):\n",
    "            XY = npXYs[npXYs[:, 0] == j][:, 1:]\n",
    "            XYs.append(XY)\n",
    "            path_XYs.append(XYs[0])\n",
    "    return path_XYs\n",
    "\n",
    "# Plots a list of curves\n",
    "def plot(paths_XYs):\n",
    "    fig, ax = plt.subplots(tight_layout=True, figsize=(8, 8))\n",
    "    colours = ['b', 'g', 'r', 'c', 'm', 'y', 'k']\n",
    "    for i, XYs in enumerate(paths_XYs):\n",
    "        c = colours[i % len(colours)]\n",
    "        for XY in XYs:\n",
    "            ax.plot(XY[:, 0], XY[:, 1], c=c, linewidth=2)\n",
    "    ax.set_aspect('equal')\n",
    "    plt.show()\n",
    "\n",
    "# Reads a csv file and plots the shape detailed there\n",
    "def plot_shape(csv_path):\n",
    "    csv_curve = read_csv(csv_path)\n",
    "    plot(csv_curve)\n",
    "    print(\"Number of curves:\", len(csv_curve))\n",
    "    \n",
    "# Returns the corner points for a set of points\n",
    "def get_corners(points, epsilon_factor=0.02):\n",
    "    points = np.array(points, dtype=np.float32).reshape((-1, 1, 2))\n",
    "    perimeter = cv2.arcLength(points, True)    \n",
    "    # Approximate the contour with a polygon\n",
    "    epsilon = epsilon_factor * perimeter\n",
    "    approx = cv2.approxPolyDP(points, epsilon, True)    \n",
    "    # Extract corners from the approximation\n",
    "    corners = [tuple(pt[0]) for pt in approx]\n",
    "    return corners\n",
    "\n",
    "def plot_shape_and_corners(points, corners):\n",
    "    points = np.array(points)\n",
    "    plt.figure(figsize=(8, 6))\n",
    "    plt.plot(points[:, 0], points[:, 1], 'o-', label='Original Shape')\n",
    "    corners = np.array(corners)\n",
    "    plt.plot(corners[:, 0], corners[:, 1], 'ro', label='Corners')\n",
    "    plt.xlabel('X')\n",
    "    plt.ylabel('Y')\n",
    "    plt.legend()\n",
    "    plt.title('Shape and Corners')\n",
    "    plt.show()\n",
    "\n",
    "def plot_convex_hull(points):\n",
    "    points = np.array(points)    \n",
    "    hull = ConvexHull(points)\n",
    "    hull_points = points[hull.vertices]    \n",
    "    plt.figure(figsize=(8, 8))\n",
    "    plt.scatter(points[:, 0], points[:, 1], color='red', s=10, label='Original Points')\n",
    "    plt.plot(np.append(hull_points[:, 0], hull_points[0, 0]), np.append(hull_points[:, 1], hull_points[0, 1]), color='blue', linestyle='-', label='Convex Hull')\n",
    "    plt.gca().set_aspect('equal', adjustable='box')\n",
    "    plt.legend()\n",
    "    plt.title('Original Points and Convex Hull')\n",
    "    plt.show()"
   ]
  },
  {
   "cell_type": "markdown",
   "metadata": {},
   "source": [
    "### Laying out the foundation\n",
    "\n",
    "We have multiple filters that will act on the doodle one by one to alter the array of points and the point mask (which indicates whether the subsequent filter should act on a given point or not)"
   ]
  },
  {
   "cell_type": "code",
   "execution_count": 54,
   "metadata": {},
   "outputs": [],
   "source": [
    "class Filter:\n",
    "    def __init__(self):\n",
    "        pass\n",
    "    def __call__(self, points, pointMask):\n",
    "        return points, pointMask\n",
    "    \n",
    "class Mask:\n",
    "    def __init__(self):\n",
    "        self.data = dict()\n",
    "        \n",
    "    @staticmethod\n",
    "    def convertKey(key):\n",
    "        return tuple(list(key))\n",
    "    \n",
    "    def __getitem__(self, key):\n",
    "        return self.data[Mask.convertKey(key)]\n",
    "    \n",
    "    def __setitem__(self, key, value):\n",
    "        self.data[Mask.convertKey(key)] = value\n",
    "        \n",
    "    def __delitem__(self, key):\n",
    "        del self.data[Mask.convertKey(key)]\n",
    "        \n",
    "    \n",
    "class Doodle:\n",
    "    def __init__(self, curves):\n",
    "        self.curves = curves\n",
    "        self.pointMask = Mask()\n",
    "        for curve in self.curves:\n",
    "            for point in curve:\n",
    "                self.pointMask[point] = 1\n",
    "        self.filters = []\n",
    "        \n",
    "    def addFilter(self, filter : Filter):\n",
    "        self.filters.append(filter)\n",
    "        return self\n",
    "    \n",
    "    def filteredPoints(self):\n",
    "        curves =  [[point for point in curve if self.pointMask[point] == 1] for curve in self.curves]\n",
    "        curves = [curve for curve in curves if len(curve) > 0]\n",
    "        return curves\n",
    "    \n",
    "    def build(self):\n",
    "        for filter in self.filters:\n",
    "            self.curves, self.pointMask = filter(self.filteredPoints(), self.pointMask)\n",
    "        return self"
   ]
  },
  {
   "cell_type": "code",
   "execution_count": 55,
   "metadata": {},
   "outputs": [],
   "source": [
    "doodle = Doodle(read_csv(\"./problems/problems/frag0.csv\"))"
   ]
  },
  {
   "cell_type": "markdown",
   "metadata": {},
   "source": [
    "### Filters for regular curves"
   ]
  },
  {
   "cell_type": "code",
   "execution_count": 56,
   "metadata": {},
   "outputs": [],
   "source": [
    "# This filter straightens all straight lines. It doesn't remove them, just straightens them\n",
    "class LineFilter(Filter):\n",
    "    def is_straight_line(self, curve, threshold=0.99):\n",
    "        x = np.array([p[0] for p in curve]).reshape(-1, 1)\n",
    "        y = np.array([p[1] for p in curve])\n",
    "        \n",
    "        model = LinearRegression().fit(x, y)\n",
    "        y_pred = model.predict(x)\n",
    "        \n",
    "        r2 = r2_score(y, y_pred)\n",
    "        return r2 >= threshold\n",
    "    \n",
    "    def fitline(self, curve):\n",
    "        return curve\n",
    "    \n",
    "    def __call__(self, curves, pointMask):\n",
    "        newcurves = []\n",
    "        for curve in curves:\n",
    "            newcurve = curve\n",
    "            if self.is_straight_line(curve) : \n",
    "                newcurve = self.fitline(curve)\n",
    "            newcurves.append(curve)\n",
    "            \n",
    "        return newcurves, pointMask"
   ]
  },
  {
   "cell_type": "code",
   "execution_count": null,
   "metadata": {},
   "outputs": [],
   "source": [
    "class ConvexFilter(Filter):\n",
    "    def is_straight_line(self, curve, threshold=0.99):\n",
    "        x = np.array([p[0] for p in curve]).reshape(-1, 1)\n",
    "        y = np.array([p[1] for p in curve])\n",
    "        \n",
    "        model = LinearRegression().fit(x, y)\n",
    "        y_pred = model.predict(x)\n",
    "        \n",
    "        r2 = r2_score(y, y_pred)\n",
    "        return r2 >= threshold\n",
    "    \n",
    "    def fitline(self, curve):\n",
    "        return curve\n",
    "    \n",
    "    def __call__(self, curves, pointMask):\n",
    "        newcurves = []\n",
    "        for curve in curves:\n",
    "            newcurve = curve\n",
    "            if self.is_straight_line(curve) : \n",
    "                newcurve = self.fitline(curve)\n",
    "            newcurves.append(curve)\n",
    "            \n",
    "        return newcurves, pointMask"
   ]
  },
  {
   "cell_type": "code",
   "execution_count": null,
   "metadata": {},
   "outputs": [],
   "source": []
  },
  {
   "cell_type": "code",
   "execution_count": 57,
   "metadata": {},
   "outputs": [],
   "source": [
    "doodle = doodle.addFilter(LineFilter()).build()"
   ]
  }
 ],
 "metadata": {
  "kernelspec": {
   "display_name": "vision",
   "language": "python",
   "name": "python3"
  },
  "language_info": {
   "codemirror_mode": {
    "name": "ipython",
    "version": 3
   },
   "file_extension": ".py",
   "mimetype": "text/x-python",
   "name": "python",
   "nbconvert_exporter": "python",
   "pygments_lexer": "ipython3",
   "version": "3.9.0"
  }
 },
 "nbformat": 4,
 "nbformat_minor": 2
}
